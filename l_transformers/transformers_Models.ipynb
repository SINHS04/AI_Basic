{
 "cells": [
  {
   "cell_type": "code",
   "execution_count": 3,
   "metadata": {},
   "outputs": [
    {
     "name": "stdout",
     "output_type": "stream",
     "text": [
      "BertConfig {\n",
      "  \"attention_probs_dropout_prob\": 0.1,\n",
      "  \"classifier_dropout\": null,\n",
      "  \"hidden_act\": \"gelu\",\n",
      "  \"hidden_dropout_prob\": 0.1,\n",
      "  \"hidden_size\": 768,\n",
      "  \"initializer_range\": 0.02,\n",
      "  \"intermediate_size\": 3072,\n",
      "  \"layer_norm_eps\": 1e-12,\n",
      "  \"max_position_embeddings\": 512,\n",
      "  \"model_type\": \"bert\",\n",
      "  \"num_attention_heads\": 12,\n",
      "  \"num_hidden_layers\": 12,\n",
      "  \"pad_token_id\": 0,\n",
      "  \"position_embedding_type\": \"absolute\",\n",
      "  \"transformers_version\": \"4.33.3\",\n",
      "  \"type_vocab_size\": 2,\n",
      "  \"use_cache\": true,\n",
      "  \"vocab_size\": 30522\n",
      "}\n",
      "\n"
     ]
    }
   ],
   "source": [
    "from transformers import BertConfig, BertModel\n",
    "\n",
    "config = BertConfig()\n",
    "model = BertModel(config)\n",
    "\n",
    "print(config)"
   ]
  },
  {
   "cell_type": "code",
   "execution_count": 17,
   "metadata": {},
   "outputs": [],
   "source": [
    "sequences = [\"Hello!\", \"Cool.\", \"Nice!\"]\n",
    "encoded_sequences = [\n",
    "    [101, 7592, 999, 102],\n",
    "    [101, 4658, 1012, 102],\n",
    "    [101, 3835, 999, 102],\n",
    "]"
   ]
  },
  {
   "cell_type": "code",
   "execution_count": 19,
   "metadata": {},
   "outputs": [
    {
     "name": "stdout",
     "output_type": "stream",
     "text": [
      "BaseModelOutputWithPoolingAndCrossAttentions(last_hidden_state=tensor([[[ 1.3174e+00,  3.7095e-02, -1.1091e-01,  ...,  5.4802e-02,\n",
      "          -1.6230e-01,  1.7900e+00],\n",
      "         [ 2.3990e-03,  1.1357e+00, -8.1331e-01,  ..., -7.4935e-01,\n",
      "           3.1326e-01,  8.2325e-01],\n",
      "         [ 5.0554e-01, -8.3564e-01,  1.5740e-01,  ..., -5.9639e-01,\n",
      "          -4.7969e-01,  2.7996e+00],\n",
      "         [-3.9060e-01, -1.2389e+00, -8.1129e-01,  ..., -7.5249e-01,\n",
      "           2.3783e-01,  5.9624e-01]],\n",
      "\n",
      "        [[ 1.3488e+00, -4.6034e-01,  7.1898e-01,  ...,  4.9269e-01,\n",
      "          -3.4161e-01,  2.7219e+00],\n",
      "         [ 5.8648e-01, -7.9476e-01, -7.5080e-01,  ...,  1.9189e-01,\n",
      "           6.3427e-01,  1.9533e+00],\n",
      "         [ 4.9544e-01, -7.3004e-01,  5.6687e-01,  ...,  1.4483e+00,\n",
      "          -7.8414e-01,  9.3277e-01],\n",
      "         [-2.9454e-01, -5.8293e-01, -8.3609e-01,  ..., -7.9018e-01,\n",
      "          -9.5813e-01,  1.5916e+00]],\n",
      "\n",
      "        [[-7.4076e-03,  1.6174e+00,  1.7881e+00,  ..., -5.8446e-01,\n",
      "          -9.3812e-01,  2.2217e+00],\n",
      "         [ 1.1615e+00,  8.8250e-01,  4.2510e-01,  ..., -7.2702e-01,\n",
      "          -1.5446e-01,  1.8919e+00],\n",
      "         [ 3.6340e-01,  7.8538e-01, -1.0428e+00,  ..., -8.0517e-01,\n",
      "          -1.2184e+00,  2.9273e+00],\n",
      "         [-5.9165e-01, -1.4105e-01, -1.1606e-01,  ..., -4.5603e-01,\n",
      "          -1.3912e+00,  1.4550e+00]]], grad_fn=<NativeLayerNormBackward0>), pooler_output=tensor([[ 0.3895,  0.2991,  0.0979,  ...,  0.2743,  0.0970,  0.0610],\n",
      "        [ 0.6337,  0.5956, -0.3078,  ...,  0.5800, -0.2360,  0.2436],\n",
      "        [ 0.6364, -0.1137, -0.4429,  ...,  0.4935,  0.0767,  0.0097]],\n",
      "       grad_fn=<TanhBackward0>), hidden_states=None, past_key_values=None, attentions=None, cross_attentions=None)\n"
     ]
    }
   ],
   "source": [
    "import torch\n",
    "\n",
    "model_inputs = torch.tensor(encoded_sequences)\n",
    "output = model(model_inputs)\n",
    "print(output)"
   ]
  }
 ],
 "metadata": {
  "kernelspec": {
   "display_name": "Dice",
   "language": "python",
   "name": "python3"
  },
  "language_info": {
   "codemirror_mode": {
    "name": "ipython",
    "version": 3
   },
   "file_extension": ".py",
   "mimetype": "text/x-python",
   "name": "python",
   "nbconvert_exporter": "python",
   "pygments_lexer": "ipython3",
   "version": "3.11.5"
  },
  "orig_nbformat": 4
 },
 "nbformat": 4,
 "nbformat_minor": 2
}
